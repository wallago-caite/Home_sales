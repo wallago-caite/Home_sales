{
  "cells": [
    {
      "cell_type": "code",
      "execution_count": 1,
      "metadata": {
        "colab": {
          "base_uri": "https://localhost:8080/"
        },
        "id": "6rQiGlfaAGEe",
        "outputId": "55d199ee-957d-4fe1-dfb7-bd35d3b5a4dd"
      },
      "outputs": [
        {
          "name": "stdout",
          "output_type": "stream",
          "text": [
            "Collecting findspark\n",
            "  Downloading findspark-2.0.1-py2.py3-none-any.whl.metadata (352 bytes)\n",
            "Downloading findspark-2.0.1-py2.py3-none-any.whl (4.4 kB)\n",
            "Installing collected packages: findspark\n",
            "Successfully installed findspark-2.0.1\n",
            "Collecting pyspark\n",
            "  Downloading pyspark-3.5.2.tar.gz (317.3 MB)\n",
            "\u001b[2K     \u001b[90m━━━━━━━━━━━━━━━━━━━━━━━━━━━━━━━━━━━━━━━━\u001b[0m \u001b[32m317.3/317.3 MB\u001b[0m \u001b[31m4.6 MB/s\u001b[0m eta \u001b[36m0:00:00\u001b[0m\n",
            "\u001b[?25h  Preparing metadata (setup.py) ... \u001b[?25l\u001b[?25hdone\n",
            "Requirement already satisfied: py4j==0.10.9.7 in /usr/local/lib/python3.10/dist-packages (from pyspark) (0.10.9.7)\n",
            "Building wheels for collected packages: pyspark\n",
            "  Building wheel for pyspark (setup.py) ... \u001b[?25l\u001b[?25hdone\n",
            "  Created wheel for pyspark: filename=pyspark-3.5.2-py2.py3-none-any.whl size=317812365 sha256=8bc528a0ecd2afd2810b056ac8e24c0d7e25e223ef2fdc13a84d3750ed3b95ff\n",
            "  Stored in directory: /root/.cache/pip/wheels/34/34/bd/03944534c44b677cd5859f248090daa9fb27b3c8f8e5f49574\n",
            "Successfully built pyspark\n",
            "Installing collected packages: pyspark\n",
            "Successfully installed pyspark-3.5.2\n"
          ]
        }
      ],
      "source": [
        "!pip install findspark\n",
        "!pip install pyspark"
      ]
    },
    {
      "cell_type": "code",
      "execution_count": 2,
      "metadata": {
        "id": "a_KW73O2e3dw"
      },
      "outputs": [],
      "source": [
        "\n",
        "# Imports\n",
        "import os\n",
        "import time\n",
        "import findspark\n",
        "from pyspark.sql import SparkSession\n",
        "from pyspark import SparkFiles"
      ]
    },
    {
      "cell_type": "code",
      "execution_count": 3,
      "metadata": {
        "id": "eTVv_LX0BuKy"
      },
      "outputs": [],
      "source": [
        "PARQUET_DIR = \"parquet_csv\"\n",
        "URL = \"https://2u-data-curriculum-team.s3.amazonaws.com/dataviz-classroom/v1.2/22-big-data/home_sales_revised.csv\""
      ]
    },
    {
      "cell_type": "markdown",
      "metadata": {
        "id": "D0uGGaXy_tq_"
      },
      "source": []
    },
    {
      "cell_type": "code",
      "execution_count": 4,
      "metadata": {
        "id": "2XbWNf1Te5fM"
      },
      "outputs": [],
      "source": [
        "#initialize findspark\n",
        "findspark.init()\n",
        "\n",
        "# Create a SparkSession\n",
        "spark = SparkSession.builder.appName(\"SparkSQL\").getOrCreate()"
      ]
    },
    {
      "cell_type": "code",
      "execution_count": 5,
      "metadata": {
        "id": "oS7dRhKCB0o6"
      },
      "outputs": [],
      "source": [
        "#os.path.basename(URL)"
      ]
    },
    {
      "cell_type": "code",
      "execution_count": 6,
      "metadata": {
        "colab": {
          "base_uri": "https://localhost:8080/"
        },
        "id": "wOJqxG_RPSwp",
        "outputId": "93408963-f7fe-403e-be14-5535ff8c49e7"
      },
      "outputs": [
        {
          "name": "stdout",
          "output_type": "stream",
          "text": [
            "+--------------------+----------+----------+------+--------+---------+-----------+--------+------+----------+----+\n",
            "|                  id|      date|date_built| price|bedrooms|bathrooms|sqft_living|sqft_lot|floors|waterfront|view|\n",
            "+--------------------+----------+----------+------+--------+---------+-----------+--------+------+----------+----+\n",
            "|f8a53099-ba1c-47d...|2022-04-08|      2016|936923|       4|        3|       3167|   11733|     2|         1|  76|\n",
            "|7530a2d8-1ae3-451...|2021-06-13|      2013|379628|       2|        2|       2235|   14384|     1|         0|  23|\n",
            "|43de979c-0bf0-4c9...|2019-04-12|      2014|417866|       2|        2|       2127|   10575|     2|         0|   0|\n",
            "|b672c137-b88c-48b...|2019-10-16|      2016|239895|       2|        2|       1631|   11149|     2|         0|   0|\n",
            "|e0726d4d-d595-407...|2022-01-08|      2017|424418|       3|        2|       2249|   13878|     2|         0|   4|\n",
            "+--------------------+----------+----------+------+--------+---------+-----------+--------+------+----------+----+\n",
            "only showing top 5 rows\n",
            "\n"
          ]
        }
      ],
      "source": [
        "# 1. Read in the AWS S3 bucket into a DataFrame.\n",
        "spark.sparkContext.addFile(URL)\n",
        "filepath = f\"file://{SparkFiles.get(os.path.basename(URL))}\"\n",
        "#print(filepath) # checking where in temp folder this is located\n",
        "df = spark.read.csv(filepath, header=True)\n",
        "df.show(5)"
      ]
    },
    {
      "cell_type": "code",
      "execution_count": 7,
      "metadata": {
        "colab": {
          "base_uri": "https://localhost:8080/"
        },
        "id": "RoljcJ7WPpnm",
        "outputId": "eee76207-fcbb-404c-82c4-b829641b9cbb"
      },
      "outputs": [
        {
          "name": "stdout",
          "output_type": "stream",
          "text": [
            "+--------------------+----------+----------+------+--------+---------+-----------+--------+------+----------+----+\n",
            "|                  id|      date|date_built| price|bedrooms|bathrooms|sqft_living|sqft_lot|floors|waterfront|view|\n",
            "+--------------------+----------+----------+------+--------+---------+-----------+--------+------+----------+----+\n",
            "|f8a53099-ba1c-47d...|2022-04-08|      2016|936923|       4|        3|       3167|   11733|     2|         1|  76|\n",
            "|7530a2d8-1ae3-451...|2021-06-13|      2013|379628|       2|        2|       2235|   14384|     1|         0|  23|\n",
            "|43de979c-0bf0-4c9...|2019-04-12|      2014|417866|       2|        2|       2127|   10575|     2|         0|   0|\n",
            "|b672c137-b88c-48b...|2019-10-16|      2016|239895|       2|        2|       1631|   11149|     2|         0|   0|\n",
            "|e0726d4d-d595-407...|2022-01-08|      2017|424418|       3|        2|       2249|   13878|     2|         0|   4|\n",
            "+--------------------+----------+----------+------+--------+---------+-----------+--------+------+----------+----+\n",
            "\n"
          ]
        }
      ],
      "source": [
        "# 2. Create a temporary view of the DataFrame.\n",
        "df.createOrReplaceTempView(\"home_sales\")\n",
        "\n",
        "test_query = \"select * from home_sales limit 5\"\n",
        "spark.sql(test_query).show()\n"
      ]
    },
    {
      "cell_type": "code",
      "execution_count": 21,
      "metadata": {
        "colab": {
          "base_uri": "https://localhost:8080/"
        },
        "id": "L6fkwOeOmqvq",
        "outputId": "d0784898-41f7-45b1-90cd-409d587912c4"
      },
      "outputs": [
        {
          "name": "stdout",
          "output_type": "stream",
          "text": [
            "+----+---------+\n",
            "|year|avg_price|\n",
            "+----+---------+\n",
            "|2019| 300263.7|\n",
            "|2020|298353.78|\n",
            "|2021|301819.44|\n",
            "|2022|296363.88|\n",
            "+----+---------+\n",
            "\n"
          ]
        }
      ],
      "source": [
        "# 3. What is the average price for a four bedroom house sold per year, rounded to two decimal places?\n",
        "avg_price_query = \"\"\"\n",
        "    SELECT YEAR(date) as year, ROUND(AVG(price), 2) as avg_price\n",
        "    FROM home_sales\n",
        "    WHERE bedrooms = 4\n",
        "    GROUP BY YEAR(date)\n",
        "    ORDER BY year\n",
        "\"\"\"\n",
        "spark.sql(avg_price_query).show()"
      ]
    },
    {
      "cell_type": "code",
      "execution_count": 25,
      "metadata": {
        "colab": {
          "base_uri": "https://localhost:8080/"
        },
        "id": "l8p_tUS8h8it",
        "outputId": "32f791dc-3814-41b9-ed07-ae4cc8fa6880"
      },
      "outputs": [
        {
          "name": "stdout",
          "output_type": "stream",
          "text": [
            "+----------+---------+\n",
            "|year_built|avg_price|\n",
            "+----------+---------+\n",
            "|      2010|292859.62|\n",
            "|      2011|291117.47|\n",
            "|      2012|293683.19|\n",
            "|      2013|295962.27|\n",
            "|      2014|290852.27|\n",
            "|      2015| 288770.3|\n",
            "|      2016|290555.07|\n",
            "|      2017|292676.79|\n",
            "+----------+---------+\n",
            "\n"
          ]
        }
      ],
      "source": [
        "# 4. What is the average price of a home for each year the home was built,\n",
        "# that have 3 bedrooms and 3 bathrooms, rounded to two decimal places?\n",
        "avg2_price_query = \"\"\"\n",
        "    SELECT YEAR(date_built) as year_built, ROUND(AVG(price), 2) as avg_price\n",
        "    FROM home_sales\n",
        "    WHERE bedrooms = 3 AND bathrooms = 3\n",
        "    GROUP BY YEAR(date_built)\n",
        "    ORDER BY year_built\n",
        "\"\"\"\n",
        "spark.sql(avg2_price_query).show()\n"
      ]
    },
    {
      "cell_type": "code",
      "execution_count": 26,
      "metadata": {
        "colab": {
          "base_uri": "https://localhost:8080/"
        },
        "id": "Y-Eytz64liDU",
        "outputId": "493ce0a4-f2aa-4589-be6c-a68cf39391c5"
      },
      "outputs": [
        {
          "name": "stdout",
          "output_type": "stream",
          "text": [
            "+----------+---------+\n",
            "|year_built|avg_price|\n",
            "+----------+---------+\n",
            "|      2010|285010.22|\n",
            "|      2011|276553.81|\n",
            "|      2012|307539.97|\n",
            "|      2013|303676.79|\n",
            "|      2014|298264.72|\n",
            "|      2015|297609.97|\n",
            "|      2016| 293965.1|\n",
            "|      2017|280317.58|\n",
            "+----------+---------+\n",
            "\n"
          ]
        }
      ],
      "source": [
        "# 5. What is the average price of a home for each year the home was built,\n",
        "# that have 3 bedrooms, 3 bathrooms, with two floors,\n",
        "# and are greater than or equal to 2,000 square feet, rounded to two decimal places?\n",
        "avg3_price_query = \"\"\"\n",
        "    SELECT YEAR(date_built) as year_built, ROUND(AVG(price), 2) as avg_price\n",
        "    FROM home_sales\n",
        "    WHERE bedrooms = 3 AND bathrooms = 3 AND floors = 2 AND sqft_living >= 2000\n",
        "    GROUP BY YEAR(date_built)\n",
        "    ORDER BY year_built\n",
        "\"\"\"\n",
        "spark.sql(avg3_price_query).show()\n"
      ]
    },
    {
      "cell_type": "code",
      "execution_count": 28,
      "metadata": {
        "colab": {
          "base_uri": "https://localhost:8080/"
        },
        "id": "GUrfgOX1pCRd",
        "outputId": "9b81e9ac-868c-4a7e-c3b9-668b772b4bec"
      },
      "outputs": [
        {
          "name": "stdout",
          "output_type": "stream",
          "text": [
            "False\n",
            "+-----------+----------+\n",
            "|view_rating|     price|\n",
            "+-----------+----------+\n",
            "|      100.0| 1026669.5|\n",
            "|       99.0|1061201.42|\n",
            "|       98.0|1053739.33|\n",
            "|       97.0|1129040.15|\n",
            "|       96.0|1017815.92|\n",
            "+-----------+----------+\n",
            "only showing top 5 rows\n",
            "\n",
            "--- 1.1011457443237305 seconds ---\n"
          ]
        }
      ],
      "source": [
        "# 6. What is the average price of a home per \"view\" rating, rounded to two decimal places,\n",
        "# having an average home price greater than or equal to $350,000? Order by descending view rating.\n",
        "# Although this is a small dataset, determine the run time for this query.\n",
        "\n",
        "query_by_view = \"\"\"\n",
        "  SELECT ROUND(view, 2) as view_rating, ROUND(AVG(price),2) as price\n",
        "  FROM home_sales\n",
        "  GROUP BY view_rating\n",
        "  HAVING AVG(price) >= 350000\n",
        "  ORDER BY view_rating DESC\n",
        "  \"\"\"\n",
        "\n",
        "print(spark.catalog.isCached('home_sales'))\n",
        "start_time_uncached = time.time()\n",
        "spark.sql(query_by_view).show(5)\n",
        "print(\"--- %s seconds ---\" % (time.time() - start_time_uncached))"
      ]
    },
    {
      "cell_type": "code",
      "execution_count": 12,
      "metadata": {
        "colab": {
          "base_uri": "https://localhost:8080/"
        },
        "id": "KAhk3ZD2tFy8",
        "outputId": "70708661-3cf6-49f4-efa5-e7060527fcae"
      },
      "outputs": [
        {
          "name": "stdout",
          "output_type": "stream",
          "text": [
            "False\n",
            "True\n"
          ]
        }
      ],
      "source": [
        "# 7. Cache the the temporary table home_sales. (Cache sandwich)\n",
        "print(spark.catalog.isCached('home_sales'))\n",
        "spark.catalog.cacheTable(\"home_sales\")\n",
        "print(spark.catalog.isCached('home_sales'))"
      ]
    },
    {
      "cell_type": "code",
      "execution_count": 13,
      "metadata": {
        "colab": {
          "base_uri": "https://localhost:8080/"
        },
        "id": "5GnL46lwTSEk",
        "outputId": "8da47133-54af-416b-aa28-7721c8182cdb"
      },
      "outputs": [
        {
          "name": "stdout",
          "output_type": "stream",
          "text": [
            "True\n",
            "--- 8.392333984375e-05 seconds ---\n"
          ]
        }
      ],
      "source": [
        "# 9. Using the cached data, run the last query above, that calculates\n",
        "# the average price of a home per \"view\" rating, rounded to two decimal places,\n",
        "# having an average home price greater than or equal to $350,000.\n",
        "# Determine the runtime and compare it to the uncached runtime.\n",
        "print(spark.catalog.isCached('home_sales'))\n",
        "start_time_cached = time.time()\n",
        "#spark.sql(query_by_view).show()\n",
        "print(\"--- %s seconds ---\" % (time.time() - start_time_cached))"
      ]
    },
    {
      "cell_type": "code",
      "execution_count": 14,
      "metadata": {
        "id": "Qm12WN9isHBR"
      },
      "outputs": [],
      "source": [
        "# 10. Partition by the \"date_built\" field on the formatted parquet home sales data\n",
        "df.write.partitionBy('date_built').parquet(PARQUET_DIR, mode=\"overwrite\")"
      ]
    },
    {
      "cell_type": "code",
      "execution_count": 15,
      "metadata": {
        "colab": {
          "base_uri": "https://localhost:8080/"
        },
        "id": "AZ7BgY61sRqY",
        "outputId": "6751e6f3-673c-4b6f-eafb-db43d6678b81"
      },
      "outputs": [
        {
          "name": "stdout",
          "output_type": "stream",
          "text": [
            "+--------------------+----------+------+--------+---------+-----------+--------+------+----------+----+----------+\n",
            "|                  id|      date| price|bedrooms|bathrooms|sqft_living|sqft_lot|floors|waterfront|view|date_built|\n",
            "+--------------------+----------+------+--------+---------+-----------+--------+------+----------+----+----------+\n",
            "|2ed8d509-7372-46d...|2021-08-06|258710|       3|        3|       1918|    9666|     1|         0|  25|      2015|\n",
            "|941bad30-eb49-4a7...|2020-05-09|229896|       3|        3|       2197|    8641|     1|         0|   3|      2015|\n",
            "|c797ca12-52cd-4b1...|2019-06-08|288650|       2|        3|       2100|   10419|     2|         0|   7|      2015|\n",
            "|0cfe57f3-28c2-472...|2019-10-04|308313|       3|        3|       1960|    9453|     2|         0|   2|      2015|\n",
            "|d715f295-2fbf-4e9...|2021-05-17|391574|       3|        2|       1635|    8040|     2|         0|  10|      2015|\n",
            "+--------------------+----------+------+--------+---------+-----------+--------+------+----------+----+----------+\n",
            "only showing top 5 rows\n",
            "\n"
          ]
        }
      ],
      "source": [
        "# 11. Read the formatted parquet data.\n",
        "parquet_df = spark.read.parquet(PARQUET_DIR)\n",
        "\n",
        "parquet_df.show(5)"
      ]
    },
    {
      "cell_type": "code",
      "execution_count": 16,
      "metadata": {
        "id": "J6MJkHfvVcvh"
      },
      "outputs": [],
      "source": [
        "# 12. Create a temporary table for the parquet data.\n",
        "parquet_df.createOrReplaceTempView(\"home_sales_parquet\")\n",
        "\n"
      ]
    },
    {
      "cell_type": "code",
      "execution_count": 17,
      "metadata": {
        "colab": {
          "base_uri": "https://localhost:8080/"
        },
        "id": "G_Vhb52rU1Sn",
        "outputId": "7ed771c8-9eb9-48b4-9396-8d158f9a79b1"
      },
      "outputs": [
        {
          "name": "stdout",
          "output_type": "stream",
          "text": [
            "--- 0.00011444091796875 seconds ---\n"
          ]
        }
      ],
      "source": [
        "# 13. Using the parquet DataFrame, run the last query above, that calculates\n",
        "# the average price of a home per \"view\" rating, rounded to two decimal places,\n",
        "# having an average home price greater than or equal to $350,000.\n",
        "# Determine the runtime and compare it to the cached runtime.\n",
        "\n",
        "start_time_parquet = time.time()\n",
        "\n",
        "\n",
        "\n",
        "print(\"--- %s seconds ---\" % (time.time() - start_time_parquet))"
      ]
    },
    {
      "cell_type": "code",
      "execution_count": 18,
      "metadata": {
        "colab": {
          "base_uri": "https://localhost:8080/"
        },
        "id": "hjjYzQGjtbq8",
        "outputId": "abd5c13e-85f0-4345-ec34-b3b2b5025f15"
      },
      "outputs": [
        {
          "name": "stdout",
          "output_type": "stream",
          "text": [
            "True\n",
            "False\n"
          ]
        }
      ],
      "source": [
        "# 14. Uncache the home_sales temporary table.\n",
        "print(spark.catalog.isCached('home_sales'))\n",
        "spark.catalog.uncacheTable(\"home_sales\")\n",
        "print(spark.catalog.isCached('home_sales'))"
      ]
    }
  ],
  "metadata": {
    "colab": {
      "provenance": []
    },
    "kernelspec": {
      "display_name": "Python 3 (ipykernel)",
      "language": "python",
      "name": "python3"
    },
    "language_info": {
      "codemirror_mode": {
        "name": "ipython",
        "version": 3
      },
      "file_extension": ".py",
      "mimetype": "text/x-python",
      "name": "python",
      "nbconvert_exporter": "python",
      "pygments_lexer": "ipython3",
      "version": "3.10.4"
    },
    "nteract": {
      "version": "0.28.0"
    }
  },
  "nbformat": 4,
  "nbformat_minor": 0
}
